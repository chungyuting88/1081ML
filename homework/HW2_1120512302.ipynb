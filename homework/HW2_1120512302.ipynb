{
 "cells": [
  {
   "cell_type": "code",
   "execution_count": 4,
   "metadata": {},
   "outputs": [
    {
     "name": "stdout",
     "output_type": "stream",
     "text": [
      "The program calculates the future value of a year investment.\n",
      "Enter the initial principal:10000\n",
      "Enter the annual interest rate:0.03\n",
      "Enter the invest year:9\n",
      "The value in your invest year is: 13047.731838292446\n"
     ]
    }
   ],
   "source": [
    "def futval1():\n",
    "    print(\"The program calculates the future value of a year investment.\")\n",
    "    principal=eval(input(\"Enter the initial principal:\"))\n",
    "    apr=eval(input(\"Enter the annual interest rate:\"))\n",
    "    investyear=eval(input(\"Enter the invest year:\"))\n",
    "    for i in range(investyear):\n",
    "        principal=principal*(1+apr)\n",
    "    print(\"The value in your invest year is:\", principal)\n",
    "futval1()"
   ]
  },
  {
   "cell_type": "code",
   "execution_count": null,
   "metadata": {},
   "outputs": [],
   "source": []
  },
  {
   "cell_type": "code",
   "execution_count": null,
   "metadata": {},
   "outputs": [],
   "source": []
  },
  {
   "cell_type": "code",
   "execution_count": null,
   "metadata": {},
   "outputs": [],
   "source": []
  }
 ],
 "metadata": {
  "kernelspec": {
   "display_name": "Python 3",
   "language": "python",
   "name": "python3"
  },
  "language_info": {
   "codemirror_mode": {
    "name": "ipython",
    "version": 3
   },
   "file_extension": ".py",
   "mimetype": "text/x-python",
   "name": "python",
   "nbconvert_exporter": "python",
   "pygments_lexer": "ipython3",
   "version": "3.7.3"
  }
 },
 "nbformat": 4,
 "nbformat_minor": 2
}
